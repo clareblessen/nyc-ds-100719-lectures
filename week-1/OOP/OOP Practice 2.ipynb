{
 "cells": [
  {
   "cell_type": "markdown",
   "metadata": {},
   "source": [
    "## More OOP Practice!\n",
    "\n",
    "Learning goals:\n",
    "- Practice creating classes and instance objects\n",
    "- Understand the distinction between classes and instance objects\n",
    "- Understand the difference between class attributes and instance attributes"
   ]
  },
  {
   "cell_type": "markdown",
   "metadata": {},
   "source": [
    "![mayes](dog.jpeg)"
   ]
  },
  {
   "cell_type": "markdown",
   "metadata": {},
   "source": [
    "### Let's define a Dog class"
   ]
  },
  {
   "cell_type": "code",
   "execution_count": 30,
   "metadata": {},
   "outputs": [],
   "source": [
    "class Dog:\n",
    "    pass"
   ]
  },
  {
   "cell_type": "markdown",
   "metadata": {},
   "source": [
    "#### Create an instance of the Dog class and assign it to a variable. Check the type of that variable."
   ]
  },
  {
   "cell_type": "code",
   "execution_count": 31,
   "metadata": {},
   "outputs": [],
   "source": [
    "scout = Dog()"
   ]
  },
  {
   "cell_type": "code",
   "execution_count": 32,
   "metadata": {},
   "outputs": [
    {
     "data": {
      "text/plain": [
       "__main__.Dog"
      ]
     },
     "execution_count": 32,
     "metadata": {},
     "output_type": "execute_result"
    }
   ],
   "source": [
    "type(scout)"
   ]
  },
  {
   "cell_type": "markdown",
   "metadata": {},
   "source": [
    "#### Add an initialization function so that every instance of the Dog class has a name and an age associated with it"
   ]
  },
  {
   "cell_type": "code",
   "execution_count": 74,
   "metadata": {},
   "outputs": [
    {
     "name": "stdout",
     "output_type": "stream",
     "text": [
      "<__main__.Dog object at 0x103b0f5c0>\n"
     ]
    }
   ],
   "source": [
    "class Dog:\n",
    "    species = 'mammal'\n",
    "    def __init__(self, name, age):\n",
    "        self.name = name\n",
    "        self.age = age\n",
    "        \n",
    "    def speak(self, sound):\n",
    "        print(f\"{self.name} says {sound}\")\n",
    "    \n",
    "    def description(self):\n",
    "        print(f\"{self.name} is {self.age} years old\")\n",
    "        \n",
    "scout = Dog('Scout', 4)\n",
    "print(scout)"
   ]
  },
  {
   "cell_type": "markdown",
   "metadata": {},
   "source": [
    "#### Every dog might have a different name and/or age, but all dogs are mammals! \n",
    "\n",
    "Add a class attribute called species so that every instance of Dog is a 'mammal'."
   ]
  },
  {
   "cell_type": "code",
   "execution_count": 75,
   "metadata": {},
   "outputs": [],
   "source": [
    "species = 'mammal'"
   ]
  },
  {
   "cell_type": "markdown",
   "metadata": {},
   "source": [
    "#### Create two separate instances of Dog, and assign them to variables.\n",
    "Print \"{name of dog1} is {age of dog 1} and {name of dog2} is {age of dog 2}\""
   ]
  },
  {
   "cell_type": "code",
   "execution_count": 76,
   "metadata": {},
   "outputs": [
    {
     "name": "stdout",
     "output_type": "stream",
     "text": [
      "lars is 5 and spot is 10\n"
     ]
    }
   ],
   "source": [
    "lars = Dog(\"lars\", 5)\n",
    "spot = Dog(\"spot\", 10)\n",
    "print(f\"{lars.name} is {lars.age} and {spot.name} is {spot.age}\")"
   ]
  },
  {
   "cell_type": "markdown",
   "metadata": {},
   "source": [
    "#### Check the species of these dogs!"
   ]
  },
  {
   "cell_type": "code",
   "execution_count": 77,
   "metadata": {},
   "outputs": [
    {
     "name": "stdout",
     "output_type": "stream",
     "text": [
      "mammal\n"
     ]
    }
   ],
   "source": [
    "print(lars.species)"
   ]
  },
  {
   "cell_type": "markdown",
   "metadata": {},
   "source": [
    "#### Dogs make sounds too, like barking! \n",
    "Add an instance method to the Dog class called speak, that accepts a sound and prints out, \n",
    "\"{name of dog} says {sound passed into the method}\""
   ]
  },
  {
   "cell_type": "code",
   "execution_count": 78,
   "metadata": {},
   "outputs": [],
   "source": [
    "# def speak(self, sound):\n",
    "#     print(f\"{self.name} says {sound}\")\n",
    "# lars.speak('ruff')"
   ]
  },
  {
   "cell_type": "markdown",
   "metadata": {},
   "source": [
    "#### Add an instance method called description that prints out:\n",
    "\"{dog name} is {dog age} years old\""
   ]
  },
  {
   "cell_type": "code",
   "execution_count": 79,
   "metadata": {},
   "outputs": [],
   "source": [
    "# def description(self):\n",
    "#     print(f\"{self.name} is {self.age} years old\")\n",
    "# lars.description()"
   ]
  },
  {
   "cell_type": "markdown",
   "metadata": {},
   "source": [
    "#### Create a new instance of the Dog class and assign it to a variable.\n",
    "Use the description and speak instance methods to display information about the dog."
   ]
  },
  {
   "cell_type": "code",
   "execution_count": 80,
   "metadata": {},
   "outputs": [
    {
     "name": "stdout",
     "output_type": "stream",
     "text": [
      "lars is 5 years old\n",
      "lars says Bark\n"
     ]
    }
   ],
   "source": [
    "lars.description()\n",
    "lars.speak('Bark')"
   ]
  },
  {
   "cell_type": "code",
   "execution_count": null,
   "metadata": {},
   "outputs": [],
   "source": []
  },
  {
   "cell_type": "markdown",
   "metadata": {},
   "source": [
    "## Your Turn:\n",
    "#### Now you are going to work with a partner to create a class. \n",
    "#### Your class will construct a descriptive statistics calculator using our functions from our previous lecture. Your class should have the following attributes:\n",
    "\n",
    "- .data - where you will hold your data\n",
    "- .length - that tells you the length of your data list\n",
    "- .mean\n",
    "- .median\n",
    "- .variance\n",
    "- .stand_dev\n",
    "\n",
    "#### Your class should have the following methods:\n",
    "\n",
    "- .add_data() - which can take in a value or a list of values and extend the .data attribute\n",
    "- .remove_data() accept a list of numbers and remove any of the numbers in that list from your object data\n"
   ]
  },
  {
   "cell_type": "code",
   "execution_count": 56,
   "metadata": {},
   "outputs": [],
   "source": [
    "class Calculator:\n",
    "    pass"
   ]
  },
  {
   "cell_type": "code",
   "execution_count": null,
   "metadata": {},
   "outputs": [],
   "source": []
  },
  {
   "cell_type": "code",
   "execution_count": null,
   "metadata": {},
   "outputs": [],
   "source": []
  },
  {
   "cell_type": "code",
   "execution_count": 40,
   "metadata": {},
   "outputs": [],
   "source": []
  },
  {
   "cell_type": "code",
   "execution_count": null,
   "metadata": {},
   "outputs": [],
   "source": []
  },
  {
   "cell_type": "code",
   "execution_count": null,
   "metadata": {},
   "outputs": [],
   "source": []
  }
 ],
 "metadata": {
  "kernelspec": {
   "display_name": "Python 3",
   "language": "python",
   "name": "python3"
  },
  "language_info": {
   "codemirror_mode": {
    "name": "ipython",
    "version": 3
   },
   "file_extension": ".py",
   "mimetype": "text/x-python",
   "name": "python",
   "nbconvert_exporter": "python",
   "pygments_lexer": "ipython3",
   "version": "3.7.3"
  }
 },
 "nbformat": 4,
 "nbformat_minor": 2
}
